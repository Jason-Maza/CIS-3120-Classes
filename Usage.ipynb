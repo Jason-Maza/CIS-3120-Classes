{
 "cells": [
  {
   "cell_type": "code",
   "execution_count": 1,
   "id": "6b88b4bc-a5c4-436d-9eed-8e95600f6d53",
   "metadata": {
    "editable": true,
    "scrolled": true,
    "slideshow": {
     "slide_type": ""
    },
    "tags": []
   },
   "outputs": [],
   "source": [
    "from Animal import Animal"
   ]
  },
  {
   "cell_type": "code",
   "execution_count": 2,
   "id": "738a52e3-faf1-4f92-8835-fed5b5e36dfe",
   "metadata": {
    "editable": true,
    "slideshow": {
     "slide_type": ""
    },
    "tags": []
   },
   "outputs": [
    {
     "name": "stdout",
     "output_type": "stream",
     "text": [
      "hello, I am Joe\n",
      "Crunch Carrot\n",
      "zzz zzz\n"
     ]
    },
    {
     "ename": "AttributeError",
     "evalue": "'Animal' object has no attribute '_Animal__slurp'",
     "output_type": "error",
     "traceback": [
      "\u001b[1;31m---------------------------------------------------------------------------\u001b[0m",
      "\u001b[1;31mAttributeError\u001b[0m                            Traceback (most recent call last)",
      "Cell \u001b[1;32mIn[2], line 4\u001b[0m\n\u001b[0;32m      2\u001b[0m x\u001b[38;5;241m.\u001b[39mfood()\n\u001b[0;32m      3\u001b[0m x\u001b[38;5;241m.\u001b[39msleep()\n\u001b[1;32m----> 4\u001b[0m \u001b[43mx\u001b[49m\u001b[38;5;241;43m.\u001b[39;49m\u001b[43mdrink\u001b[49m\u001b[43m(\u001b[49m\u001b[43m)\u001b[49m\n\u001b[0;32m      5\u001b[0m x\u001b[38;5;241m.\u001b[39mhunt()\n\u001b[0;32m      6\u001b[0m \u001b[38;5;66;03m# x.talk()\u001b[39;00m\n",
      "File \u001b[1;32m~\\OneDrive - The City University of New York\\Documents\\CIS3120-inclass\\3120-Git-and-GitHub\\CIS-3120-Classes\\Animal.py:17\u001b[0m, in \u001b[0;36mAnimal.drink\u001b[1;34m(self)\u001b[0m\n\u001b[0;32m     16\u001b[0m \u001b[38;5;28;01mdef\u001b[39;00m \u001b[38;5;21mdrink\u001b[39m(\u001b[38;5;28mself\u001b[39m):\n\u001b[1;32m---> 17\u001b[0m    \u001b[38;5;28mprint\u001b[39m(\u001b[38;5;124m\"\u001b[39m\u001b[38;5;124mslurp\u001b[39m\u001b[38;5;124m\"\u001b[39m, \u001b[38;5;28;43mself\u001b[39;49m\u001b[38;5;241;43m.\u001b[39;49m\u001b[43m__slurp\u001b[49m)\n",
      "\u001b[1;31mAttributeError\u001b[0m: 'Animal' object has no attribute '_Animal__slurp'"
     ]
    }
   ],
   "source": [
    "x = Animal(\"Joe\", \"Carrot\",\"zzz\",\"slurp\",\"I Hunt\")\n",
    "x.food()\n",
    "x.sleep()\n",
    "x.drink()\n",
    "x.hunt()\n",
    "# x.talk()"
   ]
  },
  {
   "cell_type": "code",
   "execution_count": null,
   "id": "52b69743-7c2c-4ad6-8c0a-4608083b08cd",
   "metadata": {},
   "outputs": [],
   "source": []
  }
 ],
 "metadata": {
  "kernelspec": {
   "display_name": "Python 3 (ipykernel)",
   "language": "python",
   "name": "python3"
  },
  "language_info": {
   "codemirror_mode": {
    "name": "ipython",
    "version": 3
   },
   "file_extension": ".py",
   "mimetype": "text/x-python",
   "name": "python",
   "nbconvert_exporter": "python",
   "pygments_lexer": "ipython3",
   "version": "3.12.3"
  }
 },
 "nbformat": 4,
 "nbformat_minor": 5
}
